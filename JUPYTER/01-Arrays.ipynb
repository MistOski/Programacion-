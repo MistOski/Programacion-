{
 "cells": [
  {
   "cell_type": "code",
   "execution_count": 38,
   "metadata": {
    "executionInfo": {
     "elapsed": 30,
     "status": "ok",
     "timestamp": 1750883786242,
     "user": {
      "displayName": "Ignacio Javier Millapani Neumann",
      "userId": "13338987372002812435"
     },
     "user_tz": 240
    },
    "id": "yN8WHaRibGrt"
   },
   "outputs": [],
   "source": [
    "import numpy as np #El np es un alias del nombre de la biblioteca de numpy\n",
    "import sys #Este paquete maneja funciones de sistema"
   ]
  },
  {
   "cell_type": "markdown",
   "metadata": {
    "id": "12HptU25ba1-"
   },
   "source": [
    "\n",
    "HOLA"
   ]
  },
  {
   "cell_type": "code",
   "execution_count": 39,
   "metadata": {
    "colab": {
     "base_uri": "https://localhost:8080/"
    },
    "executionInfo": {
     "elapsed": 23,
     "status": "ok",
     "timestamp": 1750883786250,
     "user": {
      "displayName": "Ignacio Javier Millapani Neumann",
      "userId": "13338987372002812435"
     },
     "user_tz": 240
    },
    "id": "FZnZCMfQcJey",
    "outputId": "eab62c6d-4ce8-41af-dc95-3af82e6f28d3"
   },
   "outputs": [
    {
     "name": "stdout",
     "output_type": "stream",
     "text": [
      "Hola\n"
     ]
    }
   ],
   "source": [
    "print(\"Hola\")"
   ]
  },
  {
   "cell_type": "code",
   "execution_count": 40,
   "metadata": {
    "executionInfo": {
     "elapsed": 72,
     "status": "ok",
     "timestamp": 1750883786358,
     "user": {
      "displayName": "Ignacio Javier Millapani Neumann",
      "userId": "13338987372002812435"
     },
     "user_tz": 240
    },
    "id": "fz8K5e9whTsr"
   },
   "outputs": [],
   "source": [
    "lista1 = list(range(1,11))\n"
   ]
  },
  {
   "cell_type": "markdown",
   "metadata": {
    "id": "f3odL1gnq407"
   },
   "source": [
    "Transformando una lista a un array"
   ]
  },
  {
   "cell_type": "code",
   "execution_count": 41,
   "metadata": {
    "colab": {
     "base_uri": "https://localhost:8080/"
    },
    "executionInfo": {
     "elapsed": 69,
     "status": "ok",
     "timestamp": 1750883786366,
     "user": {
      "displayName": "Ignacio Javier Millapani Neumann",
      "userId": "13338987372002812435"
     },
     "user_tz": 240
    },
    "id": "4EMrHHDlqs2W",
    "outputId": "e4df6a0d-6c65-43b2-d785-d21b864d0ea0"
   },
   "outputs": [
    {
     "data": {
      "text/plain": [
       "array([ 1,  2,  3,  4,  5,  6,  7,  8,  9, 10])"
      ]
     },
     "execution_count": 41,
     "metadata": {},
     "output_type": "execute_result"
    }
   ],
   "source": [
    "arreglo = np.array(lista1) #Recordar que un array es una estructura propia de la libreria Numpy\n",
    "arreglo"
   ]
  },
  {
   "cell_type": "markdown",
   "metadata": {
    "id": "eiZyyvadrVDh"
   },
   "source": [
    "Creando una lista de unos\n",
    "\n"
   ]
  },
  {
   "cell_type": "code",
   "execution_count": 42,
   "metadata": {
    "colab": {
     "base_uri": "https://localhost:8080/"
    },
    "executionInfo": {
     "elapsed": 64,
     "status": "ok",
     "timestamp": 1750883786380,
     "user": {
      "displayName": "Ignacio Javier Millapani Neumann",
      "userId": "13338987372002812435"
     },
     "user_tz": 240
    },
    "id": "43YNPbgPrYGJ",
    "outputId": "696e3ae5-00bb-4087-b98e-9c1a50433491"
   },
   "outputs": [
    {
     "data": {
      "text/plain": [
       "array([1., 1., 1., 1., 1., 1., 1., 1., 1., 1., 1., 1., 1., 1., 1., 1., 1.,\n",
       "       1., 1., 1., 1., 1., 1., 1., 1., 1., 1., 1., 1., 1., 1., 1., 1., 1.,\n",
       "       1., 1., 1., 1., 1., 1., 1., 1., 1., 1., 1., 1., 1., 1., 1., 1., 1.,\n",
       "       1., 1., 1., 1., 1., 1., 1., 1., 1., 1., 1., 1., 1., 1., 1., 1., 1.,\n",
       "       1., 1., 1., 1., 1., 1., 1., 1., 1., 1., 1., 1., 1., 1., 1., 1., 1.,\n",
       "       1., 1., 1., 1., 1., 1., 1., 1., 1., 1., 1., 1., 1., 1., 1.])"
      ]
     },
     "execution_count": 42,
     "metadata": {},
     "output_type": "execute_result"
    }
   ],
   "source": [
    "listaones = np.ones(100)\n",
    "listaones"
   ]
  },
  {
   "cell_type": "markdown",
   "metadata": {
    "id": "zqoQwlySv6pO"
   },
   "source": [
    "Lista de datos compuestos\n"
   ]
  },
  {
   "cell_type": "code",
   "execution_count": 43,
   "metadata": {
    "colab": {
     "base_uri": "https://localhost:8080/"
    },
    "executionInfo": {
     "elapsed": 39,
     "status": "ok",
     "timestamp": 1750883786381,
     "user": {
      "displayName": "Ignacio Javier Millapani Neumann",
      "userId": "13338987372002812435"
     },
     "user_tz": 240
    },
    "id": "fZjVWbBgveBd",
    "outputId": "93065cd7-6e4e-4802-f6f5-129b74410048"
   },
   "outputs": [
    {
     "data": {
      "text/plain": [
       "['Victor', 1, 2, True]"
      ]
     },
     "execution_count": 43,
     "metadata": {},
     "output_type": "execute_result"
    }
   ],
   "source": [
    "lista2 = ['Victor',1, 2, True]\n",
    "lista2\n"
   ]
  },
  {
   "cell_type": "markdown",
   "metadata": {
    "id": "Sn6_YAfJv8-7"
   },
   "source": [
    "Transformando a un array\n"
   ]
  },
  {
   "cell_type": "code",
   "execution_count": 44,
   "metadata": {
    "colab": {
     "base_uri": "https://localhost:8080/"
    },
    "executionInfo": {
     "elapsed": 52,
     "status": "ok",
     "timestamp": 1750883786411,
     "user": {
      "displayName": "Ignacio Javier Millapani Neumann",
      "userId": "13338987372002812435"
     },
     "user_tz": 240
    },
    "id": "HVQ8BIcIvpGs",
    "outputId": "223d229d-763b-420d-ac6d-64bd7c42fadb"
   },
   "outputs": [
    {
     "data": {
      "text/plain": [
       "array(['Victor', '1', '2', 'True'], dtype='<U21')"
      ]
     },
     "execution_count": 44,
     "metadata": {},
     "output_type": "execute_result"
    }
   ],
   "source": [
    "arreglo2 = np.array(lista2)\n",
    "arreglo2"
   ]
  },
  {
   "cell_type": "markdown",
   "metadata": {
    "id": "e_QuO9Aoyul6"
   },
   "source": [
    "Calculando el promedio con la funcion 'mean'"
   ]
  },
  {
   "cell_type": "code",
   "execution_count": 45,
   "metadata": {
    "colab": {
     "base_uri": "https://localhost:8080/"
    },
    "executionInfo": {
     "elapsed": 31,
     "status": "ok",
     "timestamp": 1750883786413,
     "user": {
      "displayName": "Ignacio Javier Millapani Neumann",
      "userId": "13338987372002812435"
     },
     "user_tz": 240
    },
    "id": "SsvwwTwOyVOy",
    "outputId": "a388eae4-3591-4925-a32e-d884efecb697"
   },
   "outputs": [
    {
     "data": {
      "text/plain": [
       "np.float64(5.5)"
      ]
     },
     "execution_count": 45,
     "metadata": {},
     "output_type": "execute_result"
    }
   ],
   "source": [
    "promedio = np.mean(lista1)\n",
    "promedio"
   ]
  }
 ],
 "metadata": {
  "colab": {
   "authorship_tag": "ABX9TyMCLrh+P/q/cPCRQN0Q/MBG",
   "provenance": []
  },
  "kernelspec": {
   "display_name": "Python 3",
   "name": "python3"
  },
  "language_info": {
   "name": "python"
  }
 },
 "nbformat": 4,
 "nbformat_minor": 0
}
